{
 "cells": [
  {
   "cell_type": "code",
   "execution_count": 3,
   "metadata": {},
   "outputs": [
    {
     "name": "stdout",
     "output_type": "stream",
     "text": [
      "Collecting tika\n",
      "  Downloading tika-1.24.tar.gz (28 kB)\n",
      "Requirement already satisfied: setuptools in /opt/conda/lib/python3.7/site-packages (from tika) (49.6.0.post20201009)\n",
      "Requirement already satisfied: requests in /opt/conda/lib/python3.7/site-packages (from tika) (2.25.0)\n",
      "Requirement already satisfied: certifi>=2017.4.17 in /opt/conda/lib/python3.7/site-packages (from requests->tika) (2020.11.8)\n",
      "Requirement already satisfied: urllib3<1.27,>=1.21.1 in /opt/conda/lib/python3.7/site-packages (from requests->tika) (1.25.11)\n",
      "Requirement already satisfied: idna<3,>=2.5 in /opt/conda/lib/python3.7/site-packages (from requests->tika) (2.10)\n",
      "Requirement already satisfied: chardet<4,>=3.0.2 in /opt/conda/lib/python3.7/site-packages (from requests->tika) (3.0.4)\n",
      "Building wheels for collected packages: tika\n",
      "  Building wheel for tika (setup.py) ... \u001b[?25ldone\n",
      "\u001b[?25h  Created wheel for tika: filename=tika-1.24-py3-none-any.whl size=32883 sha256=f93cfb66b7ca3f30cad0e26841018729c027ea1b5a622fc16786a1136d494b61\n",
      "  Stored in directory: /home/jovyan/.cache/pip/wheels/ec/2b/38/58ff05467a742e32f67f5d0de048fa046e764e2fbb25ac93f3\n",
      "Successfully built tika\n",
      "Installing collected packages: tika\n",
      "Successfully installed tika-1.24\n"
     ]
    }
   ],
   "source": [
    "! pip install tika"
   ]
  },
  {
   "cell_type": "code",
   "execution_count": 4,
   "metadata": {},
   "outputs": [],
   "source": [
    "from tika import unpack # for extracting text from PDFs"
   ]
  },
  {
   "cell_type": "code",
   "execution_count": 12,
   "metadata": {},
   "outputs": [],
   "source": [
    "import os \n",
    "import re"
   ]
  },
  {
   "cell_type": "code",
   "execution_count": 6,
   "metadata": {},
   "outputs": [],
   "source": [
    "def pdf2text(textkey):\n",
    "    PDF = unpack.from_file(os.path.join('..','papers',f'{textkey}.pdf'))\n",
    "    text = PDF['content']\n",
    "    return text"
   ]
  },
  {
   "cell_type": "code",
   "execution_count": 7,
   "metadata": {},
   "outputs": [],
   "source": [
    "textkey = 'ASingletonSpielman2014'"
   ]
  },
  {
   "cell_type": "code",
   "execution_count": 8,
   "metadata": {},
   "outputs": [
    {
     "name": "stderr",
     "output_type": "stream",
     "text": [
      "2020-11-26 12:07:07,058 [MainThread  ] [INFO ]  Retrieving http://search.maven.org/remotecontent?filepath=org/apache/tika/tika-server/1.24/tika-server-1.24.jar to /tmp/tika-server.jar.\n",
      "2020-11-26 12:07:18,758 [MainThread  ] [INFO ]  Retrieving http://search.maven.org/remotecontent?filepath=org/apache/tika/tika-server/1.24/tika-server-1.24.jar.md5 to /tmp/tika-server.jar.md5.\n",
      "2020-11-26 12:07:19,447 [MainThread  ] [WARNI]  Failed to see startup log message; retrying...\n"
     ]
    }
   ],
   "source": [
    "text = pdf2text(textkey)"
   ]
  },
  {
   "cell_type": "code",
   "execution_count": 10,
   "metadata": {},
   "outputs": [],
   "source": [
    "def get_refs(text, final_full_stop=True):\n",
    "    \n",
    "    if final_full_stop:\n",
    "        refs = re.findall(r\"[A-Z_-].+(?:19|20)[\\d][\\d].*(?:[\\n]|.)+?[.][\\n]\", text)\n",
    "    else:\n",
    "        refs = re.findall(r\"[A-Z_-].+(?:19|20)[\\d][\\d].*(?:[\\n]|.)+?[\\n]\", text)\n",
    "    \n",
    "    return refs"
   ]
  },
  {
   "cell_type": "code",
   "execution_count": 13,
   "metadata": {},
   "outputs": [],
   "source": [
    "refs = get_refs(text)"
   ]
  },
  {
   "cell_type": "code",
   "execution_count": 15,
   "metadata": {},
   "outputs": [],
   "source": [
    "def tidy_refs(refs):\n",
    "    \n",
    "    tidy_refs = []\n",
    "    for ref in refs:\n",
    "        while '\\n' in ref:\n",
    "            ref = ref.replace('\\n',' ')\n",
    "        while '  '  in ref:\n",
    "            ref = ref.replace('  ',' ')\n",
    "            \n",
    "        tidy_refs.append(ref)\n",
    "        \n",
    "    return tidy_refs"
   ]
  },
  {
   "cell_type": "code",
   "execution_count": 17,
   "metadata": {},
   "outputs": [],
   "source": [
    "tidy_refs = tidy_refs(refs)"
   ]
  },
  {
   "cell_type": "code",
   "execution_count": 20,
   "metadata": {},
   "outputs": [],
   "source": [
    "def simple_parse(ref):\n",
    "    \n",
    "    parsed = {}\n",
    "    parsed['original'] = ref\n",
    "    try:\n",
    "        date = re.findall(r\"(?:19|20)[\\d][\\d]\", ref)[0]\n",
    "    except:\n",
    "        date = 'Unknown'\n",
    "    parsed['date'] = date\n",
    "    names = ref.split(date)[0]\n",
    "    surnames = re.findall(r\"[A-ZÀ-ÖØ][A-Za-zÀ-ÖØ-öø-ÿ]+?[,]\", names)\n",
    "    \n",
    "    for i, surname in enumerate(surnames):\n",
    "        names = names.replace(surname,'')\n",
    "        surname = surname.lower().capitalize()\n",
    "        surnames[i] = surname.replace(',','')\n",
    "        \n",
    "    initials = re.findall(r\"[A-Z]\", names)\n",
    "    parsed['initials'] = initials   \n",
    "    parsed['surnames'] = surnames\n",
    "    try:\n",
    "        parsed['etc'] = re.findall(r\"[A-ZÀ-ÖØ][A-Za-z].+\", ref.split(date)[1])[0]\n",
    "    except:\n",
    "        parsed['etc'] = ''\n",
    "        split = parsed['etc'].split('.')\n",
    "        parsed['split'] = split\n",
    "        parsed['title'] = split[0]\n",
    "    \n",
    "    try:\n",
    "        textkey = initials[0] + surnames[0]\n",
    "        if len(surnames) < 3:\n",
    "            if len(surnames) > 1:\n",
    "                textkey += surnames[1]\n",
    "        else:\n",
    "            textkey += 'EtAl'\n",
    "        textkey += date\n",
    "        parsed['textkey'] = textkey\n",
    "    except:\n",
    "        pass\n",
    "       \n",
    "    return parsed"
   ]
  },
  {
   "cell_type": "code",
   "execution_count": 21,
   "metadata": {},
   "outputs": [
    {
     "ename": "AttributeError",
     "evalue": "'list' object has no attribute 'split'",
     "output_type": "error",
     "traceback": [
      "\u001b[0;31m---------------------------------------------------------------------------\u001b[0m",
      "\u001b[0;31mAttributeError\u001b[0m                            Traceback (most recent call last)",
      "\u001b[0;32m<ipython-input-21-68e196e78797>\u001b[0m in \u001b[0;36m<module>\u001b[0;34m\u001b[0m\n\u001b[0;32m----> 1\u001b[0;31m \u001b[0mparsed\u001b[0m \u001b[0;34m=\u001b[0m \u001b[0msimple_parse\u001b[0m\u001b[0;34m(\u001b[0m\u001b[0mtidy_refs\u001b[0m\u001b[0;34m)\u001b[0m\u001b[0;34m\u001b[0m\u001b[0;34m\u001b[0m\u001b[0m\n\u001b[0m",
      "\u001b[0;32m<ipython-input-20-35a7d6b7b0ae>\u001b[0m in \u001b[0;36msimple_parse\u001b[0;34m(ref)\u001b[0m\n\u001b[1;32m      8\u001b[0m         \u001b[0mdate\u001b[0m \u001b[0;34m=\u001b[0m \u001b[0;34m'Unknown'\u001b[0m\u001b[0;34m\u001b[0m\u001b[0;34m\u001b[0m\u001b[0m\n\u001b[1;32m      9\u001b[0m     \u001b[0mparsed\u001b[0m\u001b[0;34m[\u001b[0m\u001b[0;34m'date'\u001b[0m\u001b[0;34m]\u001b[0m \u001b[0;34m=\u001b[0m \u001b[0mdate\u001b[0m\u001b[0;34m\u001b[0m\u001b[0;34m\u001b[0m\u001b[0m\n\u001b[0;32m---> 10\u001b[0;31m     \u001b[0mnames\u001b[0m \u001b[0;34m=\u001b[0m \u001b[0mref\u001b[0m\u001b[0;34m.\u001b[0m\u001b[0msplit\u001b[0m\u001b[0;34m(\u001b[0m\u001b[0mdate\u001b[0m\u001b[0;34m)\u001b[0m\u001b[0;34m[\u001b[0m\u001b[0;36m0\u001b[0m\u001b[0;34m]\u001b[0m\u001b[0;34m\u001b[0m\u001b[0;34m\u001b[0m\u001b[0m\n\u001b[0m\u001b[1;32m     11\u001b[0m     \u001b[0msurnames\u001b[0m \u001b[0;34m=\u001b[0m \u001b[0mre\u001b[0m\u001b[0;34m.\u001b[0m\u001b[0mfindall\u001b[0m\u001b[0;34m(\u001b[0m\u001b[0;34mr\"[A-ZÀ-ÖØ][A-Za-zÀ-ÖØ-öø-ÿ]+?[,]\"\u001b[0m\u001b[0;34m,\u001b[0m \u001b[0mnames\u001b[0m\u001b[0;34m)\u001b[0m\u001b[0;34m\u001b[0m\u001b[0;34m\u001b[0m\u001b[0m\n\u001b[1;32m     12\u001b[0m \u001b[0;34m\u001b[0m\u001b[0m\n",
      "\u001b[0;31mAttributeError\u001b[0m: 'list' object has no attribute 'split'"
     ]
    }
   ],
   "source": [
    "parsed = simple_parse(tidy_refs)"
   ]
  },
  {
   "cell_type": "code",
   "execution_count": null,
   "metadata": {},
   "outputs": [],
   "source": []
  },
  {
   "cell_type": "code",
   "execution_count": 23,
   "metadata": {},
   "outputs": [],
   "source": [
    "class Text():\n",
    "    \n",
    "    def __init__(self, textkey=None, pdftext=None, harvard_ref=None):\n",
    "        \n",
    "        self.key = textkey\n",
    "         \n",
    "        if pdftext:\n",
    "            self.text = pdftext\n",
    "        elif textkey:\n",
    "            self.text = pdf2text(textkey)\n",
    "        else:\n",
    "            self.text = None\n",
    "        \n",
    "        self.harvard_ref = harvard_ref\n",
    "        if self.harvard_ref:\n",
    "            parse = simple_parse(self.harvard_ref)\n",
    "            if not self.key:\n",
    "                try:\n",
    "                    self.key = parse['textkey']\n",
    "                except:\n",
    "                    pass\n",
    "       \n",
    "        self.refs = None\n",
    "        self.links = None\n",
    "        \n",
    "    def __repr__(self):\n",
    "        \n",
    "        if self.key:\n",
    "            return self.key\n",
    "        else:\n",
    "            return self.harvard_ref\n",
    "    \n",
    "    def get_refs(self, text=None):\n",
    "        \n",
    "        if text:       \n",
    "            self.refs = tidy_refs(get_refs(text))\n",
    "        elif self.text:\n",
    "            self.refs = tidy_refs(get_refs(self.text))\n",
    "        else:\n",
    "            print('Need text to get refs.')\n",
    " "
   ]
  },
  {
   "cell_type": "code",
   "execution_count": 24,
   "metadata": {},
   "outputs": [],
   "source": [
    "t = Text(textkey)"
   ]
  },
  {
   "cell_type": "code",
   "execution_count": 34,
   "metadata": {},
   "outputs": [
    {
     "data": {
      "text/plain": [
       "['On: 09 December 2014, At: 18:19\\nPublisher: Routledge\\nInforma Ltd Registered in England and Wales Registered Number: 1072954 Registered\\noffice: Mortimer House, 37-41 Mortimer Street, London W1T 3JH, UK\\n\\nThe Professional Geographer\\nPublication details, including instructions for authors and\\nsubscription information:\\nhttp://www.tandfonline.com/loi/rtpg20\\n\\nThe Past, Present, and Future of\\nGeodemographic Research in the United\\nStates and United Kingdom\\nAlexander D. Singletona & Seth E. Spielmanb\\na University of Liverpool\\nb University of Colorado at Boulder\\nPublished online: 27 Nov 2013.\\n',\n",
       " 'To cite this article: Alexander D. Singleton & Seth E. Spielman (2014) The Past, Present, and Future\\nof Geodemographic Research in the United States and United Kingdom, The Professional Geographer,\\n66:4, 558-567, DOI: 10.1080/00330124.2013.848764\\n\\nTo link to this article:  http://dx.doi.org/10.1080/00330124.2013.848764\\n\\nPLEASE SCROLL DOWN FOR ARTICLE\\n\\nTaylor & Francis makes every effort to ensure the accuracy of all the information (the\\n“Content”) contained in the publications on our platform. Taylor & Francis, our agents,\\nand our licensors make no representations or warranties whatsoever as to the accuracy,\\ncompleteness, or suitability for any purpose of the Content. Versions of published Taylor\\n& Francis and Routledge Open articles and Taylor & Francis and Routledge Open Select\\narticles posted to institutional or subject repositories or any other third-party website are\\nwithout warranty from Taylor & Francis of any kind, either expressed or implied, including,\\nbut not limited to, warranties of merchantability, fitness for a particular purpose, or non-\\ninfringement. Any opinions and views expressed in this article are the opinions and views\\nof the authors, and are not the views of or endorsed by Taylor & Francis. The accuracy of\\nthe Content should not be relied upon and should be independently verified with primary\\nsources of information. Taylor & Francis shall not be liable for any losses, actions, claims,\\nproceedings, demands, costs, expenses, damages, and other liabilities whatsoever or\\nhowsoever caused arising directly or indirectly in connection with, in relation to or arising\\nout of the use of the Content.\\n',\n",
       " 'CitFormats?doi=10.1080/00330124.2013.848764\\nhttp://dx.doi.org/10.1080/00330124.2013.848764\\nhttp://www.tandfonline.com/page/terms-and-conditions\\nhttp://www.tandfonline.com/page/terms-and-conditions\\n\\n\\nIt is essential that you check the license status of any given Open and Open\\nSelect article to confirm conditions of access and use.\\n',\n",
       " 'The Professional Geographer, 66(4) 2014, pages 558–567. Published with license by Taylor & Francis.\\nInitial submission, October 2012; revised submissions, January and February 2013; final acceptance, February 2013.\\n',\n",
       " 'Timms [1971] and\\nRees [1972] for extensive reviews). The representa-\\ntions created by factorial ecology and social area anal-\\nysis attempted to reduce the complexities of human\\nsettlements into simplified typologies (Abler, Adams,\\nand Gould 1971) and, as such, provide the conceptual\\nand theoretical foundations for geodemographics. So-\\ncial area analysis, as originally conceived by Shevky\\nand Williams (1949), measured society at a census\\ntract scale along three dimensions: urbanization, social\\nrank, and segregation. Later, Shevky and Bell (1955)\\npresented these measures within a more extensive the-\\noretical framework. Their work, however, has been\\ncriticized (Robson 1969) as a post facto rationalization\\nof Shevky and Williams (1949). Alongside other crit-\\nicisms about the applicability of general frameworks\\nwithin specific regional contexts, this led to the emer-\\ngence of city-specific factor-analytic models, which\\nBerry and Kasarda (1977) described as factoral ecolo-\\ngies. Social area analysis and factoral ecology both\\nrepresent an early data-driven ideographic form of\\nscience, and their key contribution was to derive a set\\n\\nof methods that could be applied to illustrate urban\\nsocio-spatial structure.\\n',\n",
       " 'Tryon 1955; Webber 1975) as a methodological so-\\nlution for handling highly dimensional census data\\n(Webber 1978) and employed clustering techniques\\nto deliver categorical descriptors of small-area geog-\\nraphy. Early examples focused on single-city studies;\\nhowever, these were later expanded into national cov-\\nerage classifications (Webber and Craig 1976, 1978;\\nWebber 1977).\\n',\n",
       " 'By the mid-1970s, commercial interest in the poten-\\ntial of geodemographic analysis had emerged on both\\nsides of the Atlantic. Within the United Kingdom,\\nthe national census ward–level classification produced\\nby Webber (1977) began to be marketed by the U.S.\\n',\n",
       " 'Sleight, and Webber 2005). In parallel, in the United\\nStates, Robbins created the PRIZM (Potential Rating\\nIndex for ZIP Markets) classification in 1974, which\\nlinked census and lifestyle survey data to the then\\nnewly created ZIP codes (Weiss 1988). Throughout\\nthe 1980s, geodemographics gained traction as a\\nprivate-sector marketing tool (Reibel 2011), and the\\nnumber of commercial classifications being offered\\nin the United Kingdom and the United States\\nburgeoned. The details of this growth are adequately\\ndocumented elsewhere (Beaumont and Inglis 1989;\\nFlowerdew and Goldstein 1989; Batey and Brown\\n1995; Sleight 1997; Harris, Sleight, and Webber\\n2005).\\n',\n",
       " 'Volume 66, Number 4, November 2014\\n\\nTable 1 U.S. general-purpose area-based geodemographic classifications available in 2012\\n\\nName Level 1 Level 2\\nMicro\\nlevel Variables Taxonomic units Commercial SME\\n\\nMosaic USA, Experian 19 71 ∼3,001 ZIP + 4, block group, and\\nZIP code\\n\\nY N\\n\\nNielsen PRIZM 142 or 113 66 Hundreds Block group, ZIP +4, and\\nlarger units\\n\\nY N\\n\\nTapestry, ESRI 124 or 115 65 ∼60 Block group and larger\\nunits\\n\\nY N\\n\\nPSYTE Advantage, Pitney\\nBowes\\n\\n72 400 Block group Y N\\n\\nSTI Landscape, Synergos\\nTechnologies\\n\\n15 72 Block group Y Y\\n\\nCohorts, IXI Corporation 30 Y N\\nCameo, Callcredit\\n\\nInformation Group\\n9 52 Block group Y N\\n\\nAcxiom, Personicx 21 70 Y N\\nPatchwork Nation,\\n\\nJefferson Institute\\n12 125 County N N/A\\n\\nAmerican Clusters,\\nWorldclusters\\n\\n7 18 Block group N N/A\\n\\nNote: SME = small to medium-sized enterprise.\\n',\n",
       " 'Kingdom (e.g., 2001 output area, comprising between\\n100 and 4,000 people, with an optimal size of more\\nthan 125 households). A caveat is that the data used\\nto build geodemographics can be drawn from a vari-\\nety of scales; however, the units detailed in Tables 1\\nand 2 relate where possible to those units used as the\\nbuilding blocks of the classifications. When classify-\\ning larger geographic units, heterogeneity that might\\nexist at finer scales can be smoothed away; on the\\nother hand, finer scale data are often subject to sig-\\nnificant sampling error. It is interesting to find that\\nclassifications within the United States typically have\\na greater average number of maximum clusters than in\\nthe United Kingdom. These differences are influenced\\nby the data available or used and also those choices of\\nthe classification builders, which might be influenced\\nby the norms of competitors within their respective\\nnational markets.\\n',\n",
       " 'Wymer 1985), 1991 (Blake and Openshaw 1994,\\n1995), and 2001 (Vickers and Rees 2007) censuses.\\n',\n",
       " 'Murray et al. 2006) and, at a\\n\\nD\\now\\n\\nnl\\noa\\n\\nde\\nd \\n\\nby\\n [\\n\\nU\\nni\\n\\nve\\nrs\\n\\nit\\ny \\n\\nof\\n N\\n\\new\\n O\\n\\nrl\\nea\\n\\nns\\n] \\n\\nat\\n 1\\n\\n8:\\n19\\n\\n 0\\n9 \\n\\nD\\nec\\n\\nem\\nbe\\n\\nr \\n20\\n\\n14\\n \\n\\n\\n\\nGeodemographic Research in the U.S. and the UK 561\\n\\nTable 2 UK general-purpose area-based geodemographic classifications available in 2012\\n\\nName Level 1 Level 2 Level 3\\nMicro\\nlevel Variables Taxonomic units Commercial SME\\n\\nOutput area classification, Office for\\nNational Statistics\\n\\n7 21 52 41 Output areas N N/A\\n\\nP2 People and Places, Beacon Dodsworth 14 41 157 ∼ 80 Output areas Y Y\\nMosaic, Experian 15 67 252 440 Unit postcode Y N\\nAcorn, CACI 5 17 56 ∼ 400 Unit postcode Y N\\nCameo, Callcredit Information Group 10 58 Unit postcode Y N\\nCloud Client, Cloud Client Ltd. 15 29 Output area Y Y\\nSonar, Redmoran 6 24 80 225 Y Y\\nCensation, Maw Data Solutions 5 19 53 600 Output area Y Y\\nPersonicx Geo, Acxiom 60 ∼ 400 Postcode Y N\\nCitizen, Marketing Metrix 6 28 Postcode Y Y\\n\\nNote: SME = small to medium-sized enterprise.\\n',\n",
       " 'States (Garreau 1992).\\n\\nOpenshaw (1983) argued that because cluster\\nanalysis is an exploratory data analysis technique, “[a]\\nclassification can only be deemed ‘good’ or ‘poor’\\nwhen it has been evaluated in terms of the specific\\npurpose for which it is required; there is no magic\\nuniversal statistical test that can be applied nor is there\\nany possibility of deriving a classification suitable\\nfor all purposes” (245). This criticism is problematic\\nfor national geodemographic classifications given the\\nwide variety of potential applications and localities in\\nwhich they can be applied. Openshaw, Cullingford,\\nand Gillard (1980) made a comparison between a\\nlocally and nationally produced classification, finding\\nthat the representations created were quite differ-\\nent. This fact alone, though, does not necessarily\\nundermine the validity or usefulness of national\\nclassifications. It simply means that the inputs of the\\ntwo classifications are comparing attributes against\\ndifferent sets of denominators (Webber 1980) and for\\ndifferent purposes. A similar critique emerged in the\\nUnited States, raising concerns over the applicability\\nof utilizing the PRIZM classification (then from Clar-\\nitas) with nationally collected survey data to target at\\nlocal scales (Atlas 1989). Later work has argued that\\n“differences between [geodemographic] classes are\\ngenerally smaller than the differences found within\\nany particular class” (Voas and Williamson 2001, 74),\\ncalling again for geodemographics to be task specific,\\nthus echoing the earlier concerns of Openshaw,\\nCullingford, and Gillard (1980) and Openshaw\\n(1983). The ability to construct bespoke classification\\nhas, however, improved significantly in recent years\\nas spatial data infrastructures have matured (Singleton\\nand Longley 2009; Adnan et al. 2010).\\n',\n",
       " 'June 2012.\\nCross-national comparisons of the academic literature\\nare more complicated than a comparison of the\\ncommercial landscape. In the United States, the term\\ngeodemographics is less widely used by academics and\\nthus caution should be taken when interpreting the\\nresults. Although it is clear that this term is used much\\nmore widely in the United Kingdom (sixty-eight ar-\\nticles) than in the United States (thirty articles), these\\nresults might not reflect the use of geodemographic\\nmethods. The results emphasize that general-purpose\\ngeodemographic classifications are more widely used\\nwithin the United Kingdom. However, in an attempt\\nto capture American literature that has exploited\\ngeodemographic methods, but is not explicitly labeled\\nas such, we conducted further searches using the\\nvarious permutations of the following terms: neighbor-\\nhood classification, k-means, census, and typology. These\\nbroader search terms uncovered eleven additional\\narticles. The between-country differences do, how-\\never, require semantic distinction, chiefly between\\ngeodemographic methods and geodemographic sys-\\ntems. A geodemographic system is considered here as\\ncomprising a general-purpose classification designed\\nby one party for multiple users and uses, whereas a\\ngeodemographic method would focus on the creation\\nof bespoke multivariate typology of geolocated\\nindividuals or administrative units for a specific case\\nstudy area. It should also be noted, however, that there\\nis often overlap between the application of methods\\nand the use of a system and, as such, they cannot be\\nconsidered to be entirely mutually exclusive.\\n',\n",
       " 'Volume 66, Number 4, November 2014\\n\\nFigure 2 Academic applications of geodemographic systems in the United Kingdom and United States. (Color figure\\navailable online.)\\n\\napplications of geodemographic systems. The use of\\ndata reduction methods is widespread in the social sci-\\nences, and without a distinction between systems and\\nmethods, the comparison becomes untenable and un-\\nfocused; for example, the search term census classification\\nreturned 646,000 records in Google Scholar (accessed\\n20 December 2012).\\n',\n",
       " 'Reibel (2011) speculated that both\\nthe decline of the factor ecologic approach and the\\nuptake of geodemographic systems in the commercial\\nsector might have inhibited the use of geodemographic\\nmethods in academia. Reibel also noted that there is\\na tendency to favor indexes that measure single vari-\\nables (segregation, poverty) over discrete multivari-\\nate typologies, an observation also corroborated by\\nAbbott (1997) in discussion of the decline of contex-\\ntual approaches in the social sciences. Another hypoth-\\nesis is that differences in the use of geodemographic\\n\\nsystems in the United States and United Kingdom\\nmight relate to variable availability of free geodemo-\\ngraphics, either as academically produced models or\\nby commercial organizations offering no-cost access\\nfor academic purposes. A lower uptake of geodemo-\\ngraphics in academic publications in the United States\\ncannot necessarily be directly linked with classification\\navailability, though, and might simply reflect a lack of\\ndemand by academics as opposed to a lack of supply.\\n',\n",
       " 'Parker, Uprichard, and Burrows 2007;\\nBurrows 2008). Sociologists and other social scientists\\nin the United Kingdom have widely utilized classifica-\\ntions based on occupation (e.g., the National Statistics\\nSocial Economic Classification) to code individuals\\ninto “class”-based groupings. The majority of com-\\nmercial geodemographic classifications are optimized\\non the basis of discriminating patterns of consumption\\n(Webber 2007), which have also been shown to have\\nsimilar stratification by occupational group (Sivadas\\n1997); as such, it is perhaps not surprising that parallels\\nbetween these two classification approaches have been\\ndrawn. Although non-commercial geodemographics\\nare not explicitly rooted in consumption, implicitly\\nthey suggest that meaningful divisions of society can be\\ndescribed through such classification. In the commer-\\ncial sector, systems are validated through analysis of\\nindividual and group-level consumption patterns; for\\nexample, Nielsen’s PRIZM system includes hundreds\\nof thousands of individual-level records. Fundamental\\nquestions about the relationship among class, status,\\nand consumption are raised by Holt (1998, 1), who\\nsuggested that “consumption patterns are no longer\\nconsequential to class reproduction,” as these are the\\noutcome of broader social and cultural processes, thus\\nquestioning the logic of commercial geodemographic\\nsystems. The grand challenge for geodemographic\\nsystems is substantiating that they reflect real\\ndivisions in society, not chance grouping in the\\ndata.\\n',\n",
       " 'During the mid-1990s, a general body of critique\\nexamined the social implications of geographical infor-\\nmation systems (GIS; Pickles 1995; Curry 1998) and\\nincluded the application of geodemographics. Within\\nthe context of this critique, Goss (1995) discussed\\nthat geodemographic information systems have an\\ninstrumental rationality where past differences (as ex-\\npressed by classifications) can be reproduced through\\nreinforcement of particular behaviors that exist within\\nparticular places, an automatic production of space\\n(Thrift and French 2002). Goss sees geodemographic\\nclassifications as an oversimplified representation of\\nsociety that is both defined and sold by marketers, not-\\ning that through a “monopoly of market information\\nand control over the means of production of social\\nidentity [which is conflated with place in this context]\\ncan perhaps engineer the regularity they so desire”\\n(Goss 1995, 162). Goss’s critique of geodemographic\\nsystems presumes that consumption plays a critical\\nrole in defining identity and social hierarchies. As dis-\\ncussed earlier, however, Holt (1998) questioned this\\nassumption.\\n',\n",
       " 'Tapp and Warren 2010). Webber (2007) also\\nexamined the correspondence of a geodemographic\\nclassification and the Hall, Marshall, and Lowe (2001)\\nhierarchy of urban centers, demonstrating that at cer-\\ntain levels of hierarchy, there is a tendency for some\\nclusters to be found in greater propensity. These pat-\\nterns were linked back to sociological processes of\\ngentrification (Lees 2000) and the development of\\nmetropolitan habitus (Butler and Robson 2003).\\n',\n",
       " 'Abbott (1997) described the postwar\\ntrend in U.S. social sciences as the gradual dominance\\nof the “variables paradigm” over the “contextual\\nparadigm.” Even within the large literature on\\nneighborhood effects on health, crime, education, and\\nwell-being, neighborhoods are treated as “bundles of\\nvariables” (Galster 2001), rather than discrete classes\\nor types. The focus on variables has contributed what\\nRybczyński (1996) sees as a poor vocabulary for de-\\nscribing human settlements (contexts), where narrative\\nabout urban communities contains a limited number\\nof dimensions, being classified by some combination\\nof urban or suburban, rich or poor, creative, global,\\nmeasures of capital, or racial segregation. The focus on\\nindividual variables as opposed to contexts limits our\\n\\nD\\now\\n\\nnl\\noa\\n\\nde\\nd \\n\\nby\\n [\\n\\nU\\nni\\n\\nve\\nrs\\n\\nit\\ny \\n\\nof\\n N\\n\\new\\n O\\n\\nrl\\nea\\n\\nns\\n] \\n\\nat\\n 1\\n\\n8:\\n19\\n\\n 0\\n9 \\n\\nD\\nec\\n\\nem\\nbe\\n\\nr \\n20\\n\\n14\\n \\n\\n\\n\\n564 Volume 66, Number 4, November 2014\\n\\nvocabulary. The value of the contextual approach, as\\nembodied in modern geodemographic classification, is\\nthe ability to provide a nuanced picture of large areas,\\nto draw analogy between geographically disparate\\nsmall areas, and to enable the targeted provision of\\nservices (public or commercial). These goals might\\nseem pedestrian in the face of grand social theory, but\\nthe geodemographic enterprise holds some theoretical\\npotential. First, one could examine classifications\\nthrough the lens of theories of social stratification; any\\ncorrespondence (or lack of correspondence) would\\nhave interesting implications for both the theory and\\nthe classification in question. Geodemographics as\\nmultidimensional descriptors of context also have\\nthe potential to provide nuance to public debates\\nabout cities, strengthening comparative discourse. If\\ntheory is to be embedded within geodemographic\\nclassification more significantly, then this will likely\\nneed to be led through academic applications, as past\\nmethodological practices typically structure current\\ncommercial geodemographic systems (Webber 1980).\\n',\n",
       " 'Webber 2009).\\n\\nIn the United Kingdom, the Office for National\\nStatistics (ONS) has launched the “Beyond 2011” con-\\nsultation that aims to assess alternative options for\\nproducing demographic data that are currently de-\\nmanded by end users of the census in England and\\nWales. The underlying motivation for this review is a\\nconcern over the rising costs of delivery aligned with\\ntighter fiscal constraints and, additionally, the issue of\\nwhether the decennial interval is mismatched to de-\\nmand for more detailed and frequent statistics. The\\nfirst consultation concluded in January 2012 and was\\ndesigned to gather end user views on the range of pos-\\nsible alternatives. These results will feed into a second\\nconsultation that is taking place in 2013, with final\\nrecommendations made during 2014. As such, it is not\\nyet clear what the exact format of the next UK Census\\nwill include; however, the ONS has made strong in-\\ndications that this will be different from a traditional\\ncensus. Integral to this review will be consideration of\\nthe role and availability of administrative data released\\n\\nby the UK government under “open data” licenses. Of\\nparticular importance to the future of the UK Cen-\\nsus will be the extent to which any disparate open\\ndata might be integrated through data linkage within\\na national information framework (APPSI 2012). A\\nconsultation for the provision of such a framework\\nwas recently conducted in Scotland (see http://www.\\n',\n",
       " 'Publications/2012/03/3260). There\\nhas been significant interest from the central gov-\\nernment in the capitalization of current and future\\nopen data resources. For example, in 2012, through\\nthe Technology Strategy Board (the UK govern-\\nment’s innovation agency), £10 million of financial\\nbacking was provided to establish the Open Data\\nInstitute (http://www.theodi.org) with the aim of stim-\\nulating new innovations using open data. The extent to\\nwhich open data will supplement future censuses in the\\nUnited Kingdom is not yet known, but such substantial\\ngovernment support within an era of austerity should\\nindicate that these developments are being considered\\nseriously.\\n',\n",
       " 'In the mid-1990s a decision was taken in the United\\nStates to split the “long” and “short” form of the U.S.\\n',\n",
       " 'Indeed, during the summer of 2012 the\\nU.S. House of Representatives voted to remove all ap-\\npropriations for the ACS on the basis that it was an\\ninvasion of privacy and an infringement on individual\\nliberty. Although the summer 2012 vote appears to\\nhave been largely symbolic, similar debates have oc-\\ncurred in Canada (Shearmur 2010), suggesting a loss\\nof support for public surveys in North America.\\n',\n",
       " 'Chowdry et al. 2008; Singleton 2010) and in ex-\\nploring the background of rioters (Home Office 2011).\\n',\n",
       " 'Abbott, A. 1997. Of time and space: The contemporary rel-\\nevance of the Chicago school. Social Forces 75 (4): 1149–\\n82.\\n',\n",
       " 'Volume 66, Number 4, November 2014\\n\\nAbler, R., J. S. Adams, and P. Gould. 1971. Spatial organiza-\\ntion: The geographer’s view of the world. Englewood Cliffs,\\nNJ: Prentice Hall.\\n',\n",
       " 'APPSI. 2012. A national information framework for public\\nsector information and open data. APPSI Discussion Pa-\\nper. http://www.nationalarchives.gov.uk/documents/nif-\\nand-open-data.pdf (last accessed 20 February 2013).\\n',\n",
       " 'Atlas, M. 1989. Gambling with elections: The problem with\\ngeodemographics. In Campaigns and elections: A reader in\\nmodern American politics, ed. L. Sabato, 126–35. Glenview,\\nIL: Scott Foresman.\\n',\n",
       " 'Batey, P. W. J., and P. J. B. Brown. 1995. From human ecol-\\nogy to customer targeting: The evolution of geodemo-\\ngraphics. In GIS for business and service planning, ed. P. A.\\n',\n",
       " 'Beaumont, J. R., and K. Inglis. 1989. Geodemographics in\\npractice: Developments in Britain and Europe. Environ-\\nment and Planning A 21 (5): 587–604.\\n',\n",
       " 'Berry, B. J. L., and J. D. Kasarda. 1977. Contemporary urban\\necology. New York: Macmillan.\\n',\n",
       " 'Blake, M., and S. Openshaw. 1994. GB profiles: A user guide.\\nLeeds, UK: University of Leeds.\\n',\n",
       " 'Burrows, R. 2008. Geodemographics and the construction\\nof differentiated neighbourhoods. In Community cohesion in\\ncrisis: New dimensions of diversity and difference, ed. J. Flint\\nand D. Robinson, 219–37. Bristol, UK: Policy Press.\\n',\n",
       " 'Butler, T., and G. Robson. 2003. London calling: The middle\\nclasses and the re-making of inner London. Oxford, UK: Berg.\\n',\n",
       " 'Charlton, M. E., S. Openshaw, and C. Wymer. 1985.\\nSome new classifications of census enumeration districts\\nin Britain: A poor man’s ACORN. Journal of Economic and\\nSocial Measurement 13:69–96.\\n',\n",
       " 'A. Vignoles. 2008. Widening participation in\\nhigher education: Analysis using linked administrative data.\\n',\n",
       " 'Curry, M. R. 1998. Digital places: Living with geographic infor-\\nmation technologies. London and New York: Routledge.\\n',\n",
       " 'Flowerdew, R., and W. Goldstein. 1989. Geodemographics\\nin practice: Developments in North America. Environment\\nand Planning A 21 (5): 605–16.\\n',\n",
       " 'Galster, G. 2001. On the nature of neighbourhood. Urban\\nStudies 38 (12): 2111–24.\\n',\n",
       " 'Garreau, J. 1992. Edge city: Life on the new frontier. New York:\\nAnchor Books.\\n',\n",
       " 'Goss, J. 1995. Marketing the new marketing: The strate-\\ngic discourse of geodemographic information systems. In\\nGround truth, ed. J. Pickles, 130–70. New York: Guilford.\\n',\n",
       " 'Hall, P., S. Marshall, and M. Lowe. 2001. The changing ur-\\nban hierarchy in England and Wales, 1913–1998. Regional\\nStudies 35 (9): 775–807.\\n',\n",
       " 'Harris, R. J., P. Sleight, and R. J. Webber. 2005. Geodemo-\\ngraphics, GIS and neighbourhood targeting. London: Wiley.\\n',\n",
       " 'Holt, D. B. 1998. Does cultural capital structure American\\nconsumption? Journal of Consumer Research 25 (1): 1–25.\\n',\n",
       " 'Home Office. 2011. An overview of recorded crimes and arrests\\nresulting from disorder events in August 2011. London: Home\\nOffice.\\n',\n",
       " 'Lees, L. 2000. A reappraisal of gentrification: Towards a “ge-\\nography of gentrification.” Progress in Human Geography 24\\n(3): 389–408.\\n',\n",
       " 'M. T. Bulzacchelli, T. J. Iandiorio, and M. Ezzati. 2006.\\nEight Americas: Investigating mortality disparities across\\nraces, counties, and race-counties in the United States.\\n',\n",
       " 'Openshaw, S. 1983. Multivariate analysis of census data. In A\\ncensus user’s handbook, ed. D. W. Rhind, 243–63. London:\\nMethuen.\\n',\n",
       " 'Openshaw, S., D. Cullingford, and A. Gillard. 1980. A cri-\\ntique of the national classifications of OPCS/PRAG. Town\\nPlanning Review 51 (4): 421.\\n',\n",
       " 'Parker, S., E. Uprichard, and R. Burrows. 2007. Class places\\nand place classes: Geodemographics and the spatializa-\\ntion of class. Information, Communication & Society 10 (6):\\n902–21.\\n',\n",
       " 'Pickles, J., ed. 1995. Ground truth. New York: Guilford.\\nRees, P. 1972. Problems of classifying subareas within cities.\\n',\n",
       " 'Reibel, M. 2011. Classification approaches in neighborhood\\nresearch: Introduction and review. Urban Geography 32 (3):\\n305–16.\\n',\n",
       " 'Robson, B. T. 1969. Urban analysis: A study of city structure with\\nspecial reference to Sunderland. Cambridge, UK: Cambridge\\nUniversity Press.\\n',\n",
       " 'Rybczyński, W. 1996. City life. New York: Scribner.\\nShearmur, R. 2010. A world without data? The unintended\\n\\nconsequences of fashion in geography. Urban Geography 31\\n(8): 1009–17.\\n',\n",
       " 'Shevky, E., and W. Bell. 1955. Social area analysis. Stanford,\\nCA: Stanford University Press.\\n',\n",
       " 'Shevky, E., and M. Williams. 1949. The social areas of Los\\nAngeles. Berkeley: University of California Press.\\n',\n",
       " 'Singleton, A. D. 2010. The geodemographics of educational\\nprogression and their implications for widening participa-\\ntion in higher education. Environment and Planning A 42\\n(11): 2560–80.\\n',\n",
       " 'Singleton, A. D., and P. A. Longley. 2009. Geodemographics,\\nvisualisation, and social networks in applied geography.\\n',\n",
       " 'Sivadas, E. 1997. A preliminary examination of the continu-\\ning significance of social class to marketing: A geodemo-\\ngraphic replication. Journal of Consumer Marketing 14 (6):\\n463–79.\\n',\n",
       " 'Sleight, P. 1997. Targeting customers: How to use geodemo-\\ngraphic and lifestyle data in your business. Henley-on-Thames:\\nNTC.\\n',\n",
       " 'Tapp, A., and S. Warren. 2010. Field-capital theory and its\\nimplications for marketing. European Journal of Marketing\\n44 (1–2): 200–22.\\n',\n",
       " 'Thrift, N., and S. French. 2002. The automatic production\\nof space. Transactions of the Institute of British Geographers\\n27 (3): 309–35.\\n',\n",
       " 'Timms, D. W. G. 1971. The urban mosaic: Towards a theory of\\nresidential differentiation. Cambridge, UK: Cambridge Uni-\\nversity Press.\\n',\n",
       " 'Tryon, R. C. 1955. Identification of social areas by cluster analysis:\\nA general method with an application to the San Francisco Bay\\narea. Berkeley: University of California Press.\\n',\n",
       " 'Vickers, D., and P. Rees. 2007. Creating the UK national\\nstatistics 2001 output area classification. Journal of the\\nRoyal Statistical Society: Series A. Statistics in society 170 (2):\\n379–403.\\n',\n",
       " 'Voas, D., and P. Williamson. 2001. The diversity of diversity:\\nA critique of geodemographic classification. Area 33 (1):\\n63–76.\\n',\n",
       " 'Webber, R. J. 1975. Liverpool social area study, 1971 Data.\\nPRAG Technical Paper 14, Centre for Environmental\\nStudies, London.\\n',\n",
       " 'Webber, R. J., and J. Craig. 1976. Which local authorities are\\nalike? Population Trends 5:13–19.\\n',\n",
       " 'Weiss, M. J. 1988. The clustering of America. New York:\\nHarper and Row.\\n']"
      ]
     },
     "execution_count": 34,
     "metadata": {},
     "output_type": "execute_result"
    }
   ],
   "source": [
    "get_refs(t.text)"
   ]
  },
  {
   "cell_type": "code",
   "execution_count": null,
   "metadata": {},
   "outputs": [],
   "source": []
  }
 ],
 "metadata": {
  "jupytext": {
   "formats": "ipynb,Rmd"
  },
  "kernelspec": {
   "display_name": "Python 3",
   "language": "python",
   "name": "python3"
  },
  "language_info": {
   "codemirror_mode": {
    "name": "ipython",
    "version": 3
   },
   "file_extension": ".py",
   "mimetype": "text/x-python",
   "name": "python",
   "nbconvert_exporter": "python",
   "pygments_lexer": "ipython3",
   "version": "3.7.8"
  }
 },
 "nbformat": 4,
 "nbformat_minor": 4
}
